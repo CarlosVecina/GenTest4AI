{
 "cells": [
  {
   "cell_type": "markdown",
   "metadata": {},
   "source": [
    "In this notebook we want to explore the capabilities of LLMs and incipient agentic structures for scenario simulation purposes in ML.\n",
    "\n",
    "- Generating diverse and realistic counterfactuals.\n",
    "- Identifying influential features and decision boundaries.\n",
    "- Handling complex, high-dimensional data.\n",
    "- Complementing existing interpretability techniques.\n",
    "- Improving stakeholder communication with natural language insights."
   ]
  },
  {
   "cell_type": "markdown",
   "metadata": {},
   "source": [
    "## Train a dummy Iris model\n"
   ]
  },
  {
   "cell_type": "code",
   "execution_count": 4,
   "metadata": {},
   "outputs": [],
   "source": [
    "import matplotlib.pyplot as plt\n",
    "import numpy as np\n",
    "import polars as pl\n",
    "from sklearn.datasets import load_iris\n",
    "from sklearn.ensemble import GradientBoostingClassifier\n",
    "from sklearn.metrics import (accuracy_score, f1_score, precision_score,\n",
    "                             recall_score)\n",
    "from sklearn.model_selection import train_test_split\n",
    "\n",
    "from ai_api_testing.core.models import TestCase\n",
    "from ai_api_testing.agents.test_generator_agents.executor import Executor\n"
   ]
  },
  {
   "cell_type": "code",
   "execution_count": 5,
   "metadata": {},
   "outputs": [
    {
     "data": {
      "text/html": [
       "<div><style>\n",
       ".dataframe > thead > tr,\n",
       ".dataframe > tbody > tr {\n",
       "  text-align: right;\n",
       "  white-space: pre-wrap;\n",
       "}\n",
       "</style>\n",
       "<small>shape: (1, 5)</small><table border=\"1\" class=\"dataframe\"><thead><tr><th>sepal length (cm)</th><th>sepal width (cm)</th><th>petal length (cm)</th><th>petal width (cm)</th><th>target</th></tr><tr><td>f64</td><td>f64</td><td>f64</td><td>f64</td><td>i64</td></tr></thead><tbody><tr><td>5.1</td><td>3.5</td><td>1.4</td><td>0.2</td><td>0</td></tr></tbody></table></div>"
      ],
      "text/plain": [
       "shape: (1, 5)\n",
       "┌───────────────────┬──────────────────┬───────────────────┬──────────────────┬────────┐\n",
       "│ sepal length (cm) ┆ sepal width (cm) ┆ petal length (cm) ┆ petal width (cm) ┆ target │\n",
       "│ ---               ┆ ---              ┆ ---               ┆ ---              ┆ ---    │\n",
       "│ f64               ┆ f64              ┆ f64               ┆ f64              ┆ i64    │\n",
       "╞═══════════════════╪══════════════════╪═══════════════════╪══════════════════╪════════╡\n",
       "│ 5.1               ┆ 3.5              ┆ 1.4               ┆ 0.2              ┆ 0      │\n",
       "└───────────────────┴──────────────────┴───────────────────┴──────────────────┴────────┘"
      ]
     },
     "execution_count": 5,
     "metadata": {},
     "output_type": "execute_result"
    }
   ],
   "source": [
    "raw_data = load_iris()\n",
    "df_raw = pl.DataFrame(raw_data.data, schema={name: pl.Float64 for name in raw_data.feature_names})\n",
    "df_raw = df_raw.with_columns(pl.Series(raw_data.target).alias(\"target\"))\n",
    "df_raw.head(1)"
   ]
  },
  {
   "cell_type": "code",
   "execution_count": 6,
   "metadata": {},
   "outputs": [
    {
     "name": "stdout",
     "output_type": "stream",
     "text": [
      "[2 2 2 1 2 1 2 0 2 1 0 1 1 1 0 1 2 0 0 1 2 2 2 2 0 1 1 1 1 1]\n",
      "[2 2 2 1 2 1 2 0 2 1 0 1 1 1 0 1 2 0 0 1 2 2 2 1 0 1 1 1 1 1]\n",
      "Accuracy: 0.9666666666666667\n",
      "F1 Score: 0.9717813051146384\n",
      "Precision: 0.9696969696969697\n",
      "Recall: 0.9761904761904763\n"
     ]
    }
   ],
   "source": [
    "df_train, df_test = train_test_split(df_raw, test_size=0.2, random_state=1001)\n",
    "\n",
    "model = GradientBoostingClassifier()\n",
    "model.fit(df_train.select(pl.all().exclude(\"target\")), df_train[\"target\"])\n",
    "predictions = model.predict(df_test.select(pl.all().exclude(\"target\")))\n",
    "\n",
    "print(predictions)\n",
    "print(df_test[\"target\"].to_numpy())\n",
    "\n",
    "print(f\"Accuracy: {accuracy_score(df_test['target'], predictions)}\")\n",
    "print(f\"F1 Score: {f1_score(df_test['target'], predictions, average='macro')}\")\n",
    "print(f\"Precision: {precision_score(df_test['target'], predictions, average='macro')}\")\n",
    "print(f\"Recall: {recall_score(df_test['target'], predictions, average='macro')}\")\n",
    "\n"
   ]
  },
  {
   "cell_type": "markdown",
   "metadata": {},
   "source": [
    "## 2- Generate a test case for the Iris model\n",
    "\n",
    "We see we can face 3 different scenarios regarding context availability:\n",
    "- 1. We have access to the training data and the model\n",
    "- 2. We have access to the trained model weights and metadata but not the training data\n",
    "- 3. We have access to neither the training data nor the model. Just a model `predict()` method served or not through an API interface.\n",
    "\n",
    "We will generate a test case for each of these scenarios.\n",
    "\n"
   ]
  },
  {
   "cell_type": "code",
   "execution_count": 6,
   "metadata": {},
   "outputs": [],
   "source": [
    "# Load dependencies and config 2 level scenario simulator\n",
    "\n",
    "from pydantic_ai import RunContext\n",
    "\n",
    "from ai_api_testing.agents.test_generator_agents.case_family_agent import (\n",
    "    TestCaseFamilyDeps, default_test_case_family_agent)\n",
    "from ai_api_testing.agents.test_generator_agents.case_test_generator_agent import (\n",
    "    TestCaseGeneratorDeps, default_test_case_generator_agent)\n",
    "from ai_api_testing.agents.test_generator_agents.orchestrator import \\\n",
    "    AgentOrchestrator\n",
    "\n",
    "test_case_family_agent._system_prompt_functions = []\n",
    "test_case_generator_agent._system_prompt_functions = []\n",
    "\n",
    "@test_case_family_agent.system_prompt\n",
    "def test_case_family_prompt(ctx: RunContext[TestCaseFamilyDeps]) -> str:\n",
    "    \"\"\"System prompt for the test case family agent.\"\"\"\n",
    "    return \"\"\"\n",
    "    Role:\n",
    "    You are an ML test scenario generation expert, responsible for creating diverse test families that validate machine learning models. Your objective is to ensure the model is thoroughly tested across different data distributions, edge cases, and potential failure modes.\n",
    "\n",
    "    Objective:\n",
    "    - Generate test case families that cover normal operations, edge cases, and adversarial scenarios\n",
    "    - Consider feature interactions and dependencies in the ML model\n",
    "    - Ensure scenarios respect provided feature ranges and constraints\n",
    "    - Create realistic test variations that could occur in production\n",
    "\n",
    "    Instructions:\n",
    "\n",
    "    Test Family Types:\n",
    "    1. Normal Distribution Cases:\n",
    "       - Generate scenarios within typical feature ranges\n",
    "       - Include common feature combinations and patterns\n",
    "\n",
    "    2. Edge Cases:\n",
    "       - Test boundary conditions of feature ranges\n",
    "       - Explore rare but valid feature combinations\n",
    "       - Consider extreme values within allowed ranges\n",
    "\n",
    "    3. Adversarial Cases:\n",
    "       - Create challenging scenarios that might confuse the model\n",
    "       - Test feature combinations that are valid but unusual\n",
    "       - Explore corner cases in feature interactions\n",
    "\n",
    "    For each test family:\n",
    "    - Specify clear feature ranges that will be used\n",
    "    - Define realistic scenarios that could occur in production\n",
    "    - Consider domain-specific constraints and rules\n",
    "\n",
    "    No tool usage is allowed.\n",
    "    \"\"\"\n",
    "\n",
    "@test_case_generator_agent.system_prompt\n",
    "def test_case_generator_prompt(ctx: RunContext[TestCaseGeneratorDeps]) -> str:\n",
    "    \"\"\"System prompt for the test case generator agent.\"\"\"\n",
    "    return \"\"\"\n",
    "    Role:\n",
    "    You are an ML scenario generation specialist, responsible for creating specific test cases that validate machine learning models. Your task is to take high-level test families and generate concrete scenarios with specific feature values.\n",
    "\n",
    "    Objective:\n",
    "    - Generate diverse, realistic test scenarios based on provided feature ranges\n",
    "    - Ensure scenarios test different aspects of model behavior\n",
    "    - Create specific feature values that respect constraints and dependencies\n",
    "\n",
    "    Instructions:\n",
    "\n",
    "    Scenario Generation:\n",
    "    1. Use provided feature ranges to generate specific values\n",
    "    2. Consider feature interactions and dependencies\n",
    "    3. Create realistic combinations that could occur in production\n",
    "\n",
    "    Value Selection:\n",
    "    - Generate values within specified ranges\n",
    "    - Include boundary conditions where appropriate\n",
    "    - Ensure feature combinations make logical sense\n",
    "\n",
    "    Expected Behavior:\n",
    "    - Clearly specify expected model behavior for each scenario\n",
    "    - Define acceptable output ranges where applicable\n",
    "    - Include context about why the scenario is important\n",
    "\n",
    "   No tool usage is allowed.\n",
    "\n",
    "    \"\"\""
   ]
  },
  {
   "cell_type": "markdown",
   "metadata": {},
   "source": [
    "### 2.2- We have access to the trained model weights and metadata but not the training data\n"
   ]
  },
  {
   "cell_type": "code",
   "execution_count": 5,
   "metadata": {},
   "outputs": [
    {
     "name": "stdout",
     "output_type": "stream",
     "text": [
      "['sepal length (cm)' 'sepal width (cm)' 'petal length (cm)'\n",
      " 'petal width (cm)']\n",
      "[0 1 2]\n",
      "GradientBoostingClassifier()\n"
     ]
    }
   ],
   "source": [
    "print(model.feature_names_in_)\n",
    "print(model.classes_)\n",
    "print(model)\n"
   ]
  },
  {
   "cell_type": "markdown",
   "metadata": {},
   "source": [
    "Lets explore the trees feature thresholds, so we can get an idea of the input feature space."
   ]
  },
  {
   "cell_type": "code",
   "execution_count": 6,
   "metadata": {},
   "outputs": [],
   "source": [
    "split_thresholds = {name: [] for name in model.feature_names_in_}\n",
    "for estimator in model.estimators_:\n",
    "    for tree in estimator:\n",
    "        tree_structure = tree.tree_\n",
    "        for feature_idx, threshold in zip(tree_structure.feature, tree_structure.threshold):\n",
    "            if feature_idx >= 0:  # ignore last nodes\n",
    "                split_thresholds[model.feature_names_in_[feature_idx]].append(threshold)\n"
   ]
  },
  {
   "cell_type": "markdown",
   "metadata": {},
   "source": [
    "Simple method without previous knowledge of the feature distribution. Should be refined."
   ]
  },
  {
   "cell_type": "code",
   "execution_count": 7,
   "metadata": {},
   "outputs": [
    {
     "name": "stdout",
     "output_type": "stream",
     "text": [
      "Observed Max: 7.1499998569488525 vs actual max: 7.9\n",
      "Observed Min: 4.450000047683716 vs actual min: 4.3\n",
      "Observed Modes: [np.float64(6.799999952316284)] vs actual modes: [5.0]\n"
     ]
    }
   ],
   "source": [
    "import statistics as stats\n",
    "\n",
    "print(f\"Observed Max: {np.max(split_thresholds['sepal length (cm)'])} vs actual max: {df_raw['sepal length (cm)'].max()}\")\n",
    "print(f\"Observed Min: {np.min(split_thresholds['sepal length (cm)'])} vs actual min: {df_raw['sepal length (cm)'].min()}\")\n",
    "print(f\"Observed Modes: {stats.multimode(split_thresholds['sepal length (cm)'])} vs actual modes: {stats.multimode(df_raw['sepal length (cm)'])}\")\n"
   ]
  },
  {
   "cell_type": "code",
   "execution_count": 8,
   "metadata": {},
   "outputs": [
    {
     "data": {
      "image/png": "[encoded data removed]",
      "text/plain": [
       "<Figure size 2000x400 with 1 Axes>"
      ]
     },
     "metadata": {},
     "output_type": "display_data"
    }
   ],
   "source": [
    "from sklearn.tree import plot_tree\n",
    "plt.figure(figsize=(20,4))\n",
    "plot_tree(tree, feature_names=model.feature_names_in_, filled=True)\n",
    "plt.show()"
   ]
  },
  {
   "cell_type": "code",
   "execution_count": 9,
   "metadata": {},
   "outputs": [
    {
     "data": {
      "text/plain": [
       "{'sepal length (cm)': {'min': np.float64(4.450000047683716),\n",
       "  'max': np.float64(7.1499998569488525)},\n",
       " 'sepal width (cm)': {'min': np.float64(2.25),\n",
       "  'max': np.float64(3.950000047683716)},\n",
       " 'petal length (cm)': {'min': np.float64(1.300000011920929),\n",
       "  'max': np.float64(6.799999952316284)},\n",
       " 'petal width (cm)': {'min': np.float64(0.2500000074505806),\n",
       "  'max': np.float64(1.949999988079071)}}"
      ]
     },
     "execution_count": 9,
     "metadata": {},
     "output_type": "execute_result"
    }
   ],
   "source": [
    "def get_feature_ranges(split_thresholds: dict[str, list[float]]) -> dict[str, tuple[float, float]]:\n",
    "    return {feature: {\"min\": np.min(thresholds), \"max\": np.max(thresholds)} for feature, thresholds in split_thresholds.items()}\n",
    "\n",
    "get_feature_ranges(split_thresholds)"
   ]
  },
  {
   "cell_type": "markdown",
   "metadata": {},
   "source": [
    "Call the test case generator agent and provide it with the model features and ranges"
   ]
  },
  {
   "cell_type": "code",
   "execution_count": 14,
   "metadata": {},
   "outputs": [],
   "source": [
    "model_metadata = \"It is the Iris model with 3 classes of flowers\"\n",
    "\n",
    "orchestrator = AgentOrchestrator([\n",
    "    (test_case_family_agent, {\n",
    "        \"user_prompt\": (\n",
    "            f\"Generate ML test case families for this ML model: {model_metadata}.\"\n",
    "            f\"It has this feature importance: {model.feature_importances_} and target output: {model.classes_} \"\n",
    "            f\"with these feature ranges: {get_feature_ranges(split_thresholds)}. \"\n",
    "            \"Include normal, edge, and adversarial test families.\"\n",
    "            \"Remember tool usage is not allowed.\"\n",
    "        )\n",
    "    }),\n",
    "    (test_case_generator_agent, {\n",
    "        \"user_prompt\": (\n",
    "            \"Generate specific test scenarios for this test family, ensuring values \"\n",
    "            \"stay within feature ranges and the input json is should be these \"\n",
    "            f\"feature names: {get_feature_ranges(split_thresholds)}\"\n",
    "            \"Remember tool usage is not allowed.\"\n",
    "        )\n",
    "    })\n",
    "])"
   ]
  },
  {
   "cell_type": "code",
   "execution_count": 15,
   "metadata": {},
   "outputs": [
    {
     "name": "stderr",
     "output_type": "stream",
     "text": [
      "\u001b[32m2025-01-10 17:43:38\u001b[0m | \u001b[1mINFO    \u001b[0m | \u001b[36mai_api_testing.agents.test_generator_agents.orchestrator\u001b[0m:\u001b[36mrun_parallel\u001b[0m:\u001b[36m91\u001b[0m | \u001b[1mStarting parallel execution of agents\u001b[0m\n",
      "\u001b[32m2025-01-10 17:43:38\u001b[0m | \u001b[1mINFO    \u001b[0m | \u001b[36mai_api_testing.agents.test_generator_agents.orchestrator\u001b[0m:\u001b[36mrun_parallel\u001b[0m:\u001b[36m150\u001b[0m | \u001b[1m\n",
      "Starting level 0 with agent: test_case_family_agent\u001b[0m\n",
      "\u001b[32m2025-01-10 17:43:38\u001b[0m | \u001b[1mINFO    \u001b[0m | \u001b[36mai_api_testing.agents.test_generator_agents.orchestrator\u001b[0m:\u001b[36mprocess_agent_level\u001b[0m:\u001b[36m99\u001b[0m | \u001b[1m\n",
      "Processing agent level 0 with agent: test_case_family_agent\u001b[0m\n",
      "\u001b[32m2025-01-10 17:43:38\u001b[0m | \u001b[1mINFO    \u001b[0m | \u001b[36mai_api_testing.agents.test_generator_agents.orchestrator\u001b[0m:\u001b[36mprocess_agent_level\u001b[0m:\u001b[36m103\u001b[0m | \u001b[1mExecuting first agent: test_case_family_agent\u001b[0m\n",
      "\u001b[32m2025-01-10 17:43:38\u001b[0m | \u001b[1mINFO    \u001b[0m | \u001b[36mai_api_testing.agents.test_generator_agents.orchestrator\u001b[0m:\u001b[36mexecute_agent_with_evaluation\u001b[0m:\u001b[36m48\u001b[0m | \u001b[1mExecuting agent: test_case_family_agent\u001b[0m\n",
      "\u001b[32m2025-01-10 17:43:38\u001b[0m | \u001b[1mINFO    \u001b[0m | \u001b[36mai_api_testing.agents.test_generator_agents.orchestrator\u001b[0m:\u001b[36mexecute_agent_with_evaluation\u001b[0m:\u001b[36m53\u001b[0m | \u001b[1mInitialized results structure for agent: test_case_family_agent\u001b[0m\n",
      "\u001b[32m2025-01-10 17:43:38\u001b[0m | \u001b[1mINFO    \u001b[0m | \u001b[36mai_api_testing.agents.test_generator_agents.orchestrator\u001b[0m:\u001b[36mexecute_agent_with_evaluation\u001b[0m:\u001b[36m70\u001b[0m | \u001b[1mRunning agent without previous result\u001b[0m\n",
      "\u001b[32m2025-01-10 17:45:04\u001b[0m | \u001b[1mINFO    \u001b[0m | \u001b[36mai_api_testing.agents.test_generator_agents.orchestrator\u001b[0m:\u001b[36mexecute_agent_with_evaluation\u001b[0m:\u001b[36m79\u001b[0m | \u001b[1mStored result for key: test_case_family_agent_level_0_task_0\u001b[0m\n",
      "\u001b[32m2025-01-10 17:45:04\u001b[0m | \u001b[1mINFO    \u001b[0m | \u001b[36mai_api_testing.agents.test_generator_agents.orchestrator\u001b[0m:\u001b[36mprocess_agent_level\u001b[0m:\u001b[36m140\u001b[0m | \u001b[1mExpanding 3 results from task: task_0\u001b[0m\n",
      "\u001b[32m2025-01-10 17:45:04\u001b[0m | \u001b[1mINFO    \u001b[0m | \u001b[36mai_api_testing.agents.test_generator_agents.orchestrator\u001b[0m:\u001b[36mprocess_agent_level\u001b[0m:\u001b[36m144\u001b[0m | \u001b[1mLevel 0 completed with 3 expanded results\u001b[0m\n",
      "\u001b[32m2025-01-10 17:45:04\u001b[0m | \u001b[1mINFO    \u001b[0m | \u001b[36mai_api_testing.agents.test_generator_agents.orchestrator\u001b[0m:\u001b[36mrun_parallel\u001b[0m:\u001b[36m150\u001b[0m | \u001b[1m\n",
      "Starting level 1 with agent: test_case_generator_agent\u001b[0m\n",
      "\u001b[32m2025-01-10 17:45:04\u001b[0m | \u001b[1mINFO    \u001b[0m | \u001b[36mai_api_testing.agents.test_generator_agents.orchestrator\u001b[0m:\u001b[36mprocess_agent_level\u001b[0m:\u001b[36m99\u001b[0m | \u001b[1m\n",
      "Processing agent level 1 with agent: test_case_generator_agent\u001b[0m\n",
      "\u001b[32m2025-01-10 17:45:04\u001b[0m | \u001b[1mINFO    \u001b[0m | \u001b[36mai_api_testing.agents.test_generator_agents.orchestrator\u001b[0m:\u001b[36mprocess_agent_level\u001b[0m:\u001b[36m110\u001b[0m | \u001b[1mProcessing 3 previous results for agent: test_case_generator_agent\u001b[0m\n",
      "\u001b[32m2025-01-10 17:45:04\u001b[0m | \u001b[1mINFO    \u001b[0m | \u001b[36mai_api_testing.agents.test_generator_agents.orchestrator\u001b[0m:\u001b[36mprocess_agent_level\u001b[0m:\u001b[36m114\u001b[0m | \u001b[1mCreating task for previous result: task_0_subtask_0\u001b[0m\n",
      "\u001b[32m2025-01-10 17:45:04\u001b[0m | \u001b[1mINFO    \u001b[0m | \u001b[36mai_api_testing.agents.test_generator_agents.orchestrator\u001b[0m:\u001b[36mprocess_agent_level\u001b[0m:\u001b[36m114\u001b[0m | \u001b[1mCreating task for previous result: task_0_subtask_1\u001b[0m\n",
      "\u001b[32m2025-01-10 17:45:04\u001b[0m | \u001b[1mINFO    \u001b[0m | \u001b[36mai_api_testing.agents.test_generator_agents.orchestrator\u001b[0m:\u001b[36mprocess_agent_level\u001b[0m:\u001b[36m114\u001b[0m | \u001b[1mCreating task for previous result: task_0_subtask_2\u001b[0m\n",
      "\u001b[32m2025-01-10 17:45:04\u001b[0m | \u001b[1mINFO    \u001b[0m | \u001b[36mai_api_testing.agents.test_generator_agents.orchestrator\u001b[0m:\u001b[36mexecute_agent_with_evaluation\u001b[0m:\u001b[36m48\u001b[0m | \u001b[1mExecuting agent: test_case_generator_agent\u001b[0m\n",
      "\u001b[32m2025-01-10 17:45:04\u001b[0m | \u001b[1mINFO    \u001b[0m | \u001b[36mai_api_testing.agents.test_generator_agents.orchestrator\u001b[0m:\u001b[36mexecute_agent_with_evaluation\u001b[0m:\u001b[36m53\u001b[0m | \u001b[1mInitialized results structure for agent: test_case_generator_agent\u001b[0m\n",
      "\u001b[32m2025-01-10 17:45:04\u001b[0m | \u001b[1mINFO    \u001b[0m | \u001b[36mai_api_testing.agents.test_generator_agents.orchestrator\u001b[0m:\u001b[36mexecute_agent_with_evaluation\u001b[0m:\u001b[36m59\u001b[0m | \u001b[1mTracking execution under parent agent: test_case_family_agent\u001b[0m\n",
      "\u001b[32m2025-01-10 17:45:04\u001b[0m | \u001b[1mINFO    \u001b[0m | \u001b[36mai_api_testing.agents.test_generator_agents.orchestrator\u001b[0m:\u001b[36mexecute_agent_with_evaluation\u001b[0m:\u001b[36m64\u001b[0m | \u001b[1mRunning agent with previous result from: test_case_family_agent\u001b[0m\n",
      "\u001b[32m2025-01-10 17:45:04\u001b[0m | \u001b[1mINFO    \u001b[0m | \u001b[36mai_api_testing.agents.test_generator_agents.orchestrator\u001b[0m:\u001b[36mexecute_agent_with_evaluation\u001b[0m:\u001b[36m48\u001b[0m | \u001b[1mExecuting agent: test_case_generator_agent\u001b[0m\n",
      "\u001b[32m2025-01-10 17:45:04\u001b[0m | \u001b[1mINFO    \u001b[0m | \u001b[36mai_api_testing.agents.test_generator_agents.orchestrator\u001b[0m:\u001b[36mexecute_agent_with_evaluation\u001b[0m:\u001b[36m59\u001b[0m | \u001b[1mTracking execution under parent agent: test_case_family_agent\u001b[0m\n",
      "\u001b[32m2025-01-10 17:45:04\u001b[0m | \u001b[1mINFO    \u001b[0m | \u001b[36mai_api_testing.agents.test_generator_agents.orchestrator\u001b[0m:\u001b[36mexecute_agent_with_evaluation\u001b[0m:\u001b[36m64\u001b[0m | \u001b[1mRunning agent with previous result from: test_case_family_agent\u001b[0m\n",
      "\u001b[32m2025-01-10 17:45:04\u001b[0m | \u001b[1mINFO    \u001b[0m | \u001b[36mai_api_testing.agents.test_generator_agents.orchestrator\u001b[0m:\u001b[36mexecute_agent_with_evaluation\u001b[0m:\u001b[36m48\u001b[0m | \u001b[1mExecuting agent: test_case_generator_agent\u001b[0m\n",
      "\u001b[32m2025-01-10 17:45:04\u001b[0m | \u001b[1mINFO    \u001b[0m | \u001b[36mai_api_testing.agents.test_generator_agents.orchestrator\u001b[0m:\u001b[36mexecute_agent_with_evaluation\u001b[0m:\u001b[36m59\u001b[0m | \u001b[1mTracking execution under parent agent: test_case_family_agent\u001b[0m\n",
      "\u001b[32m2025-01-10 17:45:04\u001b[0m | \u001b[1mINFO    \u001b[0m | \u001b[36mai_api_testing.agents.test_generator_agents.orchestrator\u001b[0m:\u001b[36mexecute_agent_with_evaluation\u001b[0m:\u001b[36m64\u001b[0m | \u001b[1mRunning agent with previous result from: test_case_family_agent\u001b[0m\n",
      "\u001b[32m2025-01-10 17:45:11\u001b[0m | \u001b[1mINFO    \u001b[0m | \u001b[36mai_api_testing.agents.test_generator_agents.orchestrator\u001b[0m:\u001b[36mexecute_agent_with_evaluation\u001b[0m:\u001b[36m79\u001b[0m | \u001b[1mStored result for key: test_case_family_agent_level_1_task_0_subtask_1\u001b[0m\n",
      "\u001b[32m2025-01-10 17:45:13\u001b[0m | \u001b[1mINFO    \u001b[0m | \u001b[36mai_api_testing.agents.test_generator_agents.orchestrator\u001b[0m:\u001b[36mexecute_agent_with_evaluation\u001b[0m:\u001b[36m79\u001b[0m | \u001b[1mStored result for key: test_case_family_agent_level_1_task_0_subtask_0\u001b[0m\n",
      "\u001b[32m2025-01-10 17:45:13\u001b[0m | \u001b[1mINFO    \u001b[0m | \u001b[36mai_api_testing.agents.test_generator_agents.orchestrator\u001b[0m:\u001b[36mprocess_agent_level\u001b[0m:\u001b[36m131\u001b[0m | \u001b[1mCompleted task: task_0_subtask_0\u001b[0m\n",
      "\u001b[32m2025-01-10 17:45:13\u001b[0m | \u001b[1mINFO    \u001b[0m | \u001b[36mai_api_testing.agents.test_generator_agents.orchestrator\u001b[0m:\u001b[36mprocess_agent_level\u001b[0m:\u001b[36m131\u001b[0m | \u001b[1mCompleted task: task_0_subtask_1\u001b[0m\n",
      "\u001b[32m2025-01-10 17:45:17\u001b[0m | \u001b[1mINFO    \u001b[0m | \u001b[36mai_api_testing.agents.test_generator_agents.orchestrator\u001b[0m:\u001b[36mexecute_agent_with_evaluation\u001b[0m:\u001b[36m79\u001b[0m | \u001b[1mStored result for key: test_case_family_agent_level_1_task_0_subtask_2\u001b[0m\n",
      "\u001b[32m2025-01-10 17:45:17\u001b[0m | \u001b[1mINFO    \u001b[0m | \u001b[36mai_api_testing.agents.test_generator_agents.orchestrator\u001b[0m:\u001b[36mprocess_agent_level\u001b[0m:\u001b[36m131\u001b[0m | \u001b[1mCompleted task: task_0_subtask_2\u001b[0m\n",
      "\u001b[32m2025-01-10 17:45:17\u001b[0m | \u001b[1mINFO    \u001b[0m | \u001b[36mai_api_testing.agents.test_generator_agents.orchestrator\u001b[0m:\u001b[36mprocess_agent_level\u001b[0m:\u001b[36m140\u001b[0m | \u001b[1mExpanding 4 results from task: task_0_subtask_0\u001b[0m\n",
      "\u001b[32m2025-01-10 17:45:17\u001b[0m | \u001b[1mINFO    \u001b[0m | \u001b[36mai_api_testing.agents.test_generator_agents.orchestrator\u001b[0m:\u001b[36mprocess_agent_level\u001b[0m:\u001b[36m140\u001b[0m | \u001b[1mExpanding 4 results from task: task_0_subtask_1\u001b[0m\n",
      "\u001b[32m2025-01-10 17:45:17\u001b[0m | \u001b[1mINFO    \u001b[0m | \u001b[36mai_api_testing.agents.test_generator_agents.orchestrator\u001b[0m:\u001b[36mprocess_agent_level\u001b[0m:\u001b[36m140\u001b[0m | \u001b[1mExpanding 4 results from task: task_0_subtask_2\u001b[0m\n",
      "\u001b[32m2025-01-10 17:45:17\u001b[0m | \u001b[1mINFO    \u001b[0m | \u001b[36mai_api_testing.agents.test_generator_agents.orchestrator\u001b[0m:\u001b[36mprocess_agent_level\u001b[0m:\u001b[36m144\u001b[0m | \u001b[1mLevel 1 completed with 12 expanded results\u001b[0m\n",
      "\u001b[32m2025-01-10 17:45:17\u001b[0m | \u001b[1mINFO    \u001b[0m | \u001b[36mai_api_testing.agents.test_generator_agents.orchestrator\u001b[0m:\u001b[36mrun_parallel\u001b[0m:\u001b[36m153\u001b[0m | \u001b[1m\n",
      "All levels completed\u001b[0m\n"
     ]
    }
   ],
   "source": [
    "results = await orchestrator.run_parallel()"
   ]
  },
  {
   "cell_type": "code",
   "execution_count": 20,
   "metadata": {},
   "outputs": [
    {
     "data": {
      "text/plain": [
       "{'test_case_family_agent': {'test_case_family_agent_level_0_task_0': AgentResult(status=<AgentStatus.COMPLETED: 'completed'>, data=[TestCaseFamily(name='Normal Distribution Cases for Iris Flower Classification', description='Scenarios that represent typical measurements for Iris flowers within the feature ranges.', test_case_type='Normal Distribution', test_variations=['Sepal Length: 5.0, Sepal Width: 3.0, Petal Length: 1.5, Petal Width: 0.2 - Expected Class: 0', 'Sepal Length: 6.0, Sepal Width: 2.8, Petal Length: 4.5, Petal Width: 1.5 - Expected Class: 1', 'Sepal Length: 5.5, Sepal Width: 2.4, Petal Length: 1.8, Petal Width: 0.4 - Expected Class: 0', 'Sepal Length: 6.7, Sepal Width: 3.1, Petal Length: 5.6, Petal Width: 2.4 - Expected Class: 2']), TestCaseFamily(name='Edge Cases for Iris Flower Classification', description='Scenarios focusing on boundary conditions and rare but valid combinations of feature values.', test_case_type='Edge Cases', test_variations=['Sepal Length: 4.45, Sepal Width: 2.25, Petal Length: 1.35, Petal Width: 0.15 - Expected Class: 0', 'Sepal Length: 7.15, Sepal Width: 3.95, Petal Length: 6.80, Petal Width: 1.95 - Expected Class: 2', 'Sepal Length: 4.5, Sepal Width: 3.5, Petal Length: 1.5, Petal Width: 0.2 - Expected Class: 0', 'Sepal Length: 6.8, Sepal Width: 2.5, Petal Length: 5.5, Petal Width: 1.7 - Expected Class: 2']), TestCaseFamily(name='Adversarial Cases for Iris Flower Classification', description='Challenging scenarios that create confusion for the model through uncommon feature interactions and combinations.', test_case_type='Adversarial Cases', test_variations=['Sepal Length: 5.5, Sepal Width: 2.3, Petal Length: 5.0, Petal Width: 1.0 - (Potentially mixed Class: 1 or 2)', 'Sepal Length: 5.8, Sepal Width: 3.0, Petal Length: 1.0, Petal Width: 0.2 - (Unusual combination could confuse the model)', 'Sepal Length: 6.5, Sepal Width: 3.5, Petal Length: 4.6, Petal Width: 1.5 - (Conflicting values, possible mixed classes)', 'Sepal Length: 4.8, Sepal Width: 3.2, Petal Length: 6.0, Petal Width: 1.7 - (Confusing for Class 1 and Class 2 alike)'])], msg=None)},\n",
       " 'test_case_generator_agent': {'test_case_family_agent_level_1_task_0_subtask_0': AgentResult(status=<AgentStatus.COMPLETED: 'completed'>, data=[TestCase(name='Normal Case 1', description='Testing a normal iris flower measurement with typical values.', path='/predict', method='POST', input_json={'sepal length (cm)': 5.0, 'sepal width (cm)': 3.0, 'petal length (cm)': 1.5, 'petal width (cm)': 0.2}, expected_output_prompt='Expected Class: 0', expected_output_json=None, preconditions=None), TestCase(name='Normal Case 2', description='Iris flower measurement indicative of class 1.', path='/predict', method='POST', input_json={'sepal length (cm)': 6.0, 'sepal width (cm)': 2.8, 'petal length (cm)': 4.5, 'petal width (cm)': 1.5}, expected_output_prompt='Expected Class: 1', expected_output_json=None, preconditions=None), TestCase(name='Normal Case 3', description='Testing another typical measurement for class 0.', path='/predict', method='POST', input_json={'sepal length (cm)': 5.5, 'sepal width (cm)': 2.4, 'petal length (cm)': 1.8, 'petal width (cm)': 0.4}, expected_output_prompt='Expected Class: 0', expected_output_json=None, preconditions=None), TestCase(name='Normal Case 4', description='Testing measurements indicative of class 2 with a boundary condition on petal width.', path='/predict', method='POST', input_json={'sepal length (cm)': 6.7, 'sepal width (cm)': 3.1, 'petal length (cm)': 5.6, 'petal width (cm)': 1.4}, expected_output_prompt='Expected Class: 2', expected_output_json=None, preconditions=None)], msg=None),\n",
       "  'test_case_family_agent_level_1_task_0_subtask_1': AgentResult(status=<AgentStatus.COMPLETED: 'completed'>, data=[TestCase(name='Edge Case 1: Minimum Values', description='Testing with the minimum valid feature values for each dimension.', path='/classify_iris', method='POST', input_json=None, expected_output_prompt='Expected Class: 0', expected_output_json=None, preconditions='Input values at minimum feature boundaries.'), TestCase(name='Edge Case 2: Maximum Values', description='Testing with the maximum valid feature values for each dimension.', path='/classify_iris', method='POST', input_json=None, expected_output_prompt='Expected Class: 2', expected_output_json=None, preconditions='Input values at maximum feature boundaries.'), TestCase(name='Edge Case 3: Near Minimum Values', description='Testing with values just above the minimum valid range.', path='/classify_iris', method='POST', input_json=None, expected_output_prompt='Expected Class: 0', expected_output_json=None, preconditions='Input values just above minimum feature boundaries.'), TestCase(name='Edge Case 4: Near Maximum Values', description='Testing with values just below the maximum valid range.', path='/classify_iris', method='POST', input_json=None, expected_output_prompt='Expected Class: 2', expected_output_json=None, preconditions='Input values just below maximum feature boundaries.')], msg=None),\n",
       "  'test_case_family_agent_level_1_task_0_subtask_2': AgentResult(status=<AgentStatus.COMPLETED: 'completed'>, data=[TestCase(name='Adversarial Case 1', description='Sepal Length: 5.5, Sepal Width: 2.3, Petal Length: 5.0, Petal Width: 1.0 - (Potentially mixed Class: 1 or 2)', path='/iris/predict', method='POST', input_json={'sepal length (cm)': 5.5, 'sepal width (cm)': 2.3, 'petal length (cm)': 5.0, 'petal width (cm)': 1.0}, expected_output_prompt='Model should classify it as either class 1 or 2, exhibiting uncertainty due to conflicting features.', expected_output_json=None, preconditions='Model should be trained on the Iris dataset.'), TestCase(name='Adversarial Case 2', description='Sepal Length: 5.8, Sepal Width: 3.0, Petal Length: 1.0, Petal Width: 0.2 - (Unusual combination could confuse the model)', path='/iris/predict', method='POST', input_json={'sepal length (cm)': 5.8, 'sepal width (cm)': 3.0, 'petal length (cm)': 1.0, 'petal width (cm)': 0.2}, expected_output_prompt='Model may incorrectly classify this example as Class 1, which usually has larger petal lengths.', expected_output_json=None, preconditions='Model should be trained on the Iris dataset.'), TestCase(name='Adversarial Case 3', description='Sepal Length: 6.5, Sepal Width: 3.5, Petal Length: 4.6, Petal Width: 1.5 - (Conflicting values, possible mixed classes)', path='/iris/predict', method='POST', input_json={'sepal length (cm)': 6.5, 'sepal width (cm)': 3.5, 'petal length (cm)': 4.6, 'petal width (cm)': 1.5}, expected_output_prompt='Model might be uncertain about the class since the values differ from typical Class 3 dimensions.', expected_output_json=None, preconditions='Model should be trained on the Iris dataset.'), TestCase(name='Adversarial Case 4', description='Sepal Length: 4.8, Sepal Width: 3.2, Petal Length: 6.0, Petal Width: 1.7 - (Confusing for Class 1 and Class 2 alike)', path='/iris/predict', method='POST', input_json={'sepal length (cm)': 4.8, 'sepal width (cm)': 3.2, 'petal length (cm)': 6.0, 'petal width (cm)': 1.7}, expected_output_prompt='Model should exhibit confusion in classification between Class 1 and 2 due to overlapping feature ranges.', expected_output_json=None, preconditions='Model should be trained on the Iris dataset.')], msg=None)}}"
      ]
     },
     "execution_count": 20,
     "metadata": {},
     "output_type": "execute_result"
    }
   ],
   "source": [
    "results\n"
   ]
  },
  {
   "cell_type": "code",
   "execution_count": 81,
   "metadata": {},
   "outputs": [],
   "source": [
    "case = TestCase(name='Adversarial Case  4', description='Sepal Length: 4.8, Sepal Width: 3.2, Petal Length: 6.0, Petal Width: 1.7 - (Confusing for Class 1 and Class 2 alike)', path='/iris/predict', method='POST', input_json={'sepal length (cm)': 4.8, 'sepal width (cm)': 3.2, 'petal length (cm)': 6.0, 'petal width (cm)': 1.7}, expected_output_prompt='Model should exhibit confusion in classification between Class 1 and 2 due to overlapping feature ranges.', expected_output_json=None, preconditions='Model should be trained on the Iris dataset.')\n",
    "\n",
    "executor = Executor()\n",
    "executor.execute(case, model, False)"
   ]
  },
  {
   "cell_type": "code",
   "execution_count": 83,
   "metadata": {},
   "outputs": [
    {
     "name": "stdout",
     "output_type": "stream",
     "text": [
      "Wrong output input_json\n"
     ]
    },
    {
     "name": "stderr",
     "output_type": "stream",
     "text": [
      "c:\\Users\\Carlos\\Documents\\GitHub\\ai-api-testing\\.venv\\lib\\site-packages\\sklearn\\utils\\validation.py:2739: UserWarning: X does not have valid feature names, but GradientBoostingClassifier was fitted with feature names\n",
      "  warnings.warn(\n",
      "c:\\Users\\Carlos\\Documents\\GitHub\\ai-api-testing\\.venv\\lib\\site-packages\\sklearn\\utils\\validation.py:2739: UserWarning: X does not have valid feature names, but GradientBoostingClassifier was fitted with feature names\n",
      "  warnings.warn(\n",
      "c:\\Users\\Carlos\\Documents\\GitHub\\ai-api-testing\\.venv\\lib\\site-packages\\sklearn\\utils\\validation.py:2739: UserWarning: X does not have valid feature names, but GradientBoostingClassifier was fitted with feature names\n",
      "  warnings.warn(\n",
      "c:\\Users\\Carlos\\Documents\\GitHub\\ai-api-testing\\.venv\\lib\\site-packages\\sklearn\\utils\\validation.py:2739: UserWarning: X does not have valid feature names, but GradientBoostingClassifier was fitted with feature names\n",
      "  warnings.warn(\n"
     ]
    },
    {
     "data": {
      "text/plain": [
       "{\"{'sepal length (cm)': 5.0, 'sepal width (cm)': 3.0, 'petal length (cm)': 1.5, 'petal width (cm)': 0.2}\": array([0]),\n",
       " \"{'sepal length (cm)': 6.0, 'sepal width (cm)': 2.8, 'petal length (cm)': 4.5, 'petal width (cm)': 1.5}\": array([1]),\n",
       " \"{'sepal length (cm)': 5.5, 'sepal width (cm)': 2.4, 'petal length (cm)': 1.8, 'petal width (cm)': 0.4}\": array([0]),\n",
       " \"{'sepal length (cm)': 6.7, 'sepal width (cm)': 3.1, 'petal length (cm)': 5.6, 'petal width (cm)': 1.4}\": array([2])}"
      ]
     },
     "execution_count": 83,
     "metadata": {},
     "output_type": "execute_result"
    }
   ],
   "source": [
    "executor.execute_results(results[\"test_case_generator_agent\"], model)"
   ]
  },
  {
   "cell_type": "code",
   "execution_count": 85,
   "metadata": {},
   "outputs": [
    {
     "name": "stdout",
     "output_type": "stream",
     "text": [
      "test_case_family_agent_level_1_task_0_subtask_0\n",
      "{'sepal length (cm)': 5.0, 'sepal width (cm)': 3.0, 'petal length (cm)': 1.5, 'petal width (cm)': 0.2}\n",
      "[0]\n",
      "Expected Class: 0\n",
      "{'sepal length (cm)': 6.0, 'sepal width (cm)': 2.8, 'petal length (cm)': 4.5, 'petal width (cm)': 1.5}\n",
      "[1]\n",
      "Expected Class: 1\n",
      "{'sepal length (cm)': 5.5, 'sepal width (cm)': 2.4, 'petal length (cm)': 1.8, 'petal width (cm)': 0.4}\n",
      "[0]\n",
      "Expected Class: 0\n",
      "{'sepal length (cm)': 6.7, 'sepal width (cm)': 3.1, 'petal length (cm)': 5.6, 'petal width (cm)': 1.4}\n",
      "[2]\n",
      "Expected Class: 2\n",
      "test_case_family_agent_level_1_task_0_subtask_1\n",
      "None\n",
      "'NoneType' object has no attribute 'values'\n",
      "None\n",
      "'NoneType' object has no attribute 'values'\n",
      "None\n",
      "'NoneType' object has no attribute 'values'\n",
      "None\n",
      "'NoneType' object has no attribute 'values'\n",
      "test_case_family_agent_level_1_task_0_subtask_2\n",
      "{'sepal length (cm)': 5.5, 'sepal width (cm)': 2.3, 'petal length (cm)': 5.0, 'petal width (cm)': 1.0}\n",
      "[2]\n",
      "Model should classify it as either class 1 or 2, exhibiting uncertainty due to conflicting features.\n",
      "{'sepal length (cm)': 5.8, 'sepal width (cm)': 3.0, 'petal length (cm)': 1.0, 'petal width (cm)': 0.2}\n",
      "[0]\n",
      "Model may incorrectly classify this example as Class 1, which usually has larger petal lengths.\n",
      "{'sepal length (cm)': 6.5, 'sepal width (cm)': 3.5, 'petal length (cm)': 4.6, 'petal width (cm)': 1.5}\n",
      "[1]\n",
      "Model might be uncertain about the class since the values differ from typical Class 3 dimensions.\n",
      "{'sepal length (cm)': 4.8, 'sepal width (cm)': 3.2, 'petal length (cm)': 6.0, 'petal width (cm)': 1.7}\n",
      "[2]\n",
      "Model should exhibit confusion in classification between Class 1 and 2 due to overlapping feature ranges.\n"
     ]
    },
    {
     "name": "stderr",
     "output_type": "stream",
     "text": [
      "c:\\Users\\Carlos\\Documents\\GitHub\\ai-api-testing\\.venv\\lib\\site-packages\\sklearn\\utils\\validation.py:2739: UserWarning: X does not have valid feature names, but GradientBoostingClassifier was fitted with feature names\n",
      "  warnings.warn(\n",
      "c:\\Users\\Carlos\\Documents\\GitHub\\ai-api-testing\\.venv\\lib\\site-packages\\sklearn\\utils\\validation.py:2739: UserWarning: X does not have valid feature names, but GradientBoostingClassifier was fitted with feature names\n",
      "  warnings.warn(\n",
      "c:\\Users\\Carlos\\Documents\\GitHub\\ai-api-testing\\.venv\\lib\\site-packages\\sklearn\\utils\\validation.py:2739: UserWarning: X does not have valid feature names, but GradientBoostingClassifier was fitted with feature names\n",
      "  warnings.warn(\n",
      "c:\\Users\\Carlos\\Documents\\GitHub\\ai-api-testing\\.venv\\lib\\site-packages\\sklearn\\utils\\validation.py:2739: UserWarning: X does not have valid feature names, but GradientBoostingClassifier was fitted with feature names\n",
      "  warnings.warn(\n",
      "c:\\Users\\Carlos\\Documents\\GitHub\\ai-api-testing\\.venv\\lib\\site-packages\\sklearn\\utils\\validation.py:2739: UserWarning: X does not have valid feature names, but GradientBoostingClassifier was fitted with feature names\n",
      "  warnings.warn(\n",
      "c:\\Users\\Carlos\\Documents\\GitHub\\ai-api-testing\\.venv\\lib\\site-packages\\sklearn\\utils\\validation.py:2739: UserWarning: X does not have valid feature names, but GradientBoostingClassifier was fitted with feature names\n",
      "  warnings.warn(\n",
      "c:\\Users\\Carlos\\Documents\\GitHub\\ai-api-testing\\.venv\\lib\\site-packages\\sklearn\\utils\\validation.py:2739: UserWarning: X does not have valid feature names, but GradientBoostingClassifier was fitted with feature names\n",
      "  warnings.warn(\n",
      "c:\\Users\\Carlos\\Documents\\GitHub\\ai-api-testing\\.venv\\lib\\site-packages\\sklearn\\utils\\validation.py:2739: UserWarning: X does not have valid feature names, but GradientBoostingClassifier was fitted with feature names\n",
      "  warnings.warn(\n"
     ]
    }
   ],
   "source": [
    "for level_key, level_results in results[\"test_case_generator_agent\"].items():\n",
    "    print(level_key)\n",
    "    for testcase in level_results.data:\n",
    "        try:\n",
    "            print(testcase.input_json)\n",
    "            print(executor.execute(testcase, model))\n",
    "            print(testcase.expected_output_prompt)\n",
    "        except Exception as e:\n",
    "            print(e)\n",
    "            pass\n",
    "\n"
   ]
  },
  {
   "cell_type": "markdown",
   "metadata": {},
   "source": [
    "### 2.1- We have access to the training data and the model\n"
   ]
  },
  {
   "cell_type": "code",
   "execution_count": 4,
   "metadata": {},
   "outputs": [
    {
     "name": "stderr",
     "output_type": "stream",
     "text": [
      "c:\\Users\\Carlos\\Documents\\GitHub\\ai-api-testing\\.venv\\lib\\site-packages\\tqdm\\auto.py:21: TqdmWarning: IProgress not found. Please update jupyter and ipywidgets. See https://ipywidgets.readthedocs.io/en/stable/user_install.html\n",
      "  from .autonotebook import tqdm as notebook_tqdm\n"
     ]
    }
   ],
   "source": [
    "from typing import Any\n",
    "import numpy as np\n",
    "import matplotlib.pyplot as plt\n",
    "from sklearn.inspection import PartialDependenceDisplay\n",
    "from sklearn.inspection import partial_dependence\n",
    "import shap\n",
    "\n",
    "from ai_api_testing.agents.test_generator_agents.executor import Predictable\n",
    "\n",
    "\n",
    "def get_features_actual_stats(df: pl.DataFrame) -> list[dict[str, int | float | str]]:\n",
    "    df_describe = df.describe()\n",
    "    return {\n",
    "        col: dict(zip(df_describe[\"statistic\"], df_describe[col]))\n",
    "        for col in df_describe.columns[1:]\n",
    "    }\n",
    "\n",
    "def get_actual_shap_interpretation(df: pl.DataFrame, model: Predictable):\n",
    "    def _get_actual_shap_values(df: pl.DataFrame, model: Predictable):\n",
    "        explainer = shap.TreeExplainer(model)\n",
    "        return explainer.shap_values(df.to_pandas())\n",
    "    \n",
    "    def _detect_multimodality(values, feature_name):\n",
    "        from scipy import stats\n",
    "        from scipy.signal import find_peaks\n",
    "\n",
    "        values = values[values != 0]\n",
    "        if len(values) == 0:\n",
    "            return None\n",
    "\n",
    "        kernel = stats.gaussian_kde(values)\n",
    "        x_range = np.linspace(min(values), max(values), 100)\n",
    "        density = kernel(x_range)\n",
    "\n",
    "        peaks, _ = find_peaks(density)\n",
    "\n",
    "        is_multimodal = len(peaks) >= 2\n",
    "        if is_multimodal:\n",
    "            return f\"\\nFound {len(peaks)} modes for  {feature_name} at values: {x_range[peaks]}\"    \n",
    "            return {feature_name: x_range[peaks]}\n",
    "            print(f\"\\nBimodal distribution detected for {feature_name}\")\n",
    "            print(f\"Found {len(peaks)} modes at values: {x_range[peaks]}\")\n",
    "        return None\n",
    "    \n",
    "    def _format(feature_names, shap_summary):\n",
    "        result_text = \"SHAP Values Detailed Summary:\\n\\n\"\n",
    "        result_text += f\"{'Feature':<20} {'Mean':>10} {'Max':>10} {'Min':>10} {'Std':>10}\\n\"\n",
    "        result_text += \"-\" * 70 + \"\\n\"\n",
    "        for feature in feature_names:\n",
    "            result_text += f\"{feature:<20} {shap_summary['mean'][feature]:>10.4f} {shap_summary['max'][feature]:>10.4f} {shap_summary['min'][feature]:>10.4f} {shap_summary['std'][feature]:>10.4f} \\n\"\n",
    "            \n",
    "        for i, feature in enumerate(feature_names):\n",
    "            multimodality_text =_detect_multimodality(shap_values[:, i], feature)\n",
    "            if multimodality_text:\n",
    "                result_text += multimodality_text\n",
    "        return result_text\n",
    "\n",
    "    shap_values = _get_actual_shap_values(df, model)\n",
    "\n",
    "    feature_names = df_raw.select(pl.all().exclude(\"target\")).columns\n",
    "    shap_dict = {}\n",
    "    for f in feature_names:\n",
    "        shap_dict[f] = {\n",
    "            \"mean\": np.abs(shap_values).mean(axis=0),\n",
    "            \"max\": shap_values.max(axis=0),\n",
    "            \"min\": shap_values.min(axis=0),\n",
    "            \"std\": shap_values.std(axis=0)\n",
    "        }\n",
    "\n",
    "    return shap_dict#_format(feature_names, shap_summary)\n",
    "\n",
    "def get_partial_dependence(df: pl.DataFrame, model: Predictable, precision: int | None = 10) -> dict[str, dict[float, float]]:\n",
    "    def _format(pd_list):\n",
    "        result_text = \"Partial Dependence Analysis:\\n\\n\"\n",
    "        for feature_dict in pd_list:\n",
    "            for feature_name, values in feature_dict.items():\n",
    "                result_text += f\"\\n{feature_name}:\\n\"\n",
    "                result_text += \"-\" * 40 + \"\\n\"\n",
    "                result_text += f\"{'Feature Value':<15} {'Average Prediction':>15}\\n\"\n",
    "                result_text += \"-\" * 40 + \"\\n\"\n",
    "                for grid_val, avg_val in values.items():\n",
    "                    result_text += f\"{grid_val:<15.3f} {avg_val:>15.3f}\\n\"\n",
    "        return result_text\n",
    "\n",
    "    feature_names = df.columns\n",
    "    pd_dict = {}\n",
    "    for i, feature_name in enumerate(feature_names):\n",
    "        pd = partial_dependence(\n",
    "            model, df, features=[i], grid_resolution=precision,\n",
    "            feature_names=feature_names\n",
    "        )\n",
    "        pd_dict[feature_name] = {float(grid_val): float(avg_val) for grid_val, avg_val in zip(pd['grid_values'][0], pd['average'][0])}\n",
    "\n",
    "    return pd_dict\n",
    "\n",
    "actual_stats = get_features_actual_stats(df_raw.select(pl.all().exclude(\"target\")))\n",
    "actual_pd = get_partial_dependence(df_raw.select(pl.all().exclude(\"target\")), model)\n",
    "#actual_shap = get_actual_shap_interpretation(df_raw.select(pl.all().exclude(\"target\")), model)\n"
   ]
  },
  {
   "cell_type": "code",
   "execution_count": 5,
   "metadata": {},
   "outputs": [],
   "source": [
    "# filter top N features based on importance\n",
    "\n",
    "top_n = 2\n",
    "features_to_include = [x for _, x in sorted(zip(model.feature_importances_, model.feature_names_in_), reverse=True)][0:top_n]\n",
    "\n",
    "def filter_dict_by_features(dict_to_filter: dict[str, Any], features_to_include: list[str]):\n",
    "    return {k:v for k,v in dict_to_filter.items() if np.isin(k, features_to_include)}\n",
    "\n",
    "actual_stats = filter_dict_by_features(actual_stats, features_to_include)\n",
    "actual_pd = filter_dict_by_features(actual_stats, features_to_include)\n",
    "#actual_shap = filter_dict_by_features(actual_stats, features_to_include)\n"
   ]
  },
  {
   "cell_type": "code",
   "execution_count": 6,
   "metadata": {},
   "outputs": [],
   "source": [
    "# Load dependencies and config 2 level scenario simulator\n",
    "\n",
    "from pydantic_ai import Agent, RunContext\n",
    "\n",
    "from ai_api_testing.agents.test_generator_agents.case_family_agent import (\n",
    "    TestCaseFamilyDeps, create_test_case_family_agent, test_case_family_agent)\n",
    "from ai_api_testing.agents.test_generator_agents.case_test_generator_agent import (\n",
    "    TestCaseGeneratorDeps, create_test_case_generator_agent)\n",
    "from ai_api_testing.agents.test_generator_agents.orchestrator import \\\n",
    "    AgentOrchestrator\n",
    "\n",
    "known_data_test_family_agent = create_test_case_family_agent(\"known-data-test-family-agent\")\n",
    "know_data_test_case_generator_agent = create_test_case_generator_agent(\"known-data-test-case-generator-agent\")\n",
    "\n",
    "@known_data_test_family_agent.system_prompt\n",
    "def test_case_family_prompt(ctx: RunContext[TestCaseFamilyDeps]) -> str:\n",
    "    \"\"\"System prompt for the test case family agent.\"\"\"\n",
    "    return \"\"\"\n",
    "    You are a testing scenario generator for a medium-level ML model API. You have access to:\n",
    "    \n",
    "    Training Feature Distributions: The stats of the input features during training. SHAP Value Summarizations: Feature contributions for predictions. Feature Importance: Feature rankings by impact to the model.\n",
    "    \n",
    "    Your task is to generate plausible test scenarios that test the API’s robustness, fairness and edge cases. These will be refined into test cases and scenario simulations later.\n",
    "    \n",
    "    Requirements:\n",
    "    \n",
    "    Align with real use cases based on the training feature distributions. Include edge cases where features are far from the training distribution. Account for interactions between highly important features (as per SHAP and feature importance). Test fairness by including scenarios that test biases related to sensitive features. Be brief but descriptive so developers can implement simulations easily.\n",
    "    \n",
    "    Output 5-10 medium level test scenarios, with variety and coverage of the model’s functionality.\n",
    "\n",
    "    \"\"\"\n",
    "\n",
    "@know_data_test_case_generator_agent.system_prompt\n",
    "def test_case_generator_prompt(ctx: RunContext[TestCaseFamilyDeps]) -> str:\n",
    "    \"\"\"System prompt for the test case family agent.\"\"\"\n",
    "    return \"\"\"\n",
    "    You are a highly specialized test case generator tasked with expanding high-level test scenario families into detailed, well-structured test cases for API validation. Each test case should strictly adhere to the provided schema and API specification, ensuring it is executable, precise, and comprehensive.\n",
    "    \n",
    "    Your Role:\n",
    "    Receive a high-level test scenario family, including its general context and objectives.\n",
    "    Expand each family into 5 to 20 detailed test cases, ensuring variety in test coverage while maintaining relevance to the scenario's intent.\n",
    "    Generate test cases that follow the TestCase class schema exactly, including all required fields.\n",
    "    \n",
    "    Test Case Requirements:\n",
    "    Name: Provide a concise and descriptive name summarizing the test case's intent.\n",
    "    Description: Clearly outline the test case's objective, purpose, and key parameters.\n",
    "    Path: Specify the API endpoint path being tested.\n",
    "    Method: Indicate the HTTP method (e.g., GET, POST, PUT, DELETE) being used.\n",
    "    Input JSON: Include realistic input data strictly adhering to the API specification. Cover edge cases, typical inputs, and invalid inputs for robustness.\n",
    "    Expected Output Prompt: Describe the expected behavior or output from the API in natural language.\n",
    "    Expected Output JSON: Provide the structured expected output, ensuring it aligns with the API's documented response format.\n",
    "    Preconditions: Specify any preconditions or dependencies required for the test case to be valid, such as system state, data setup, or prior API calls.\n",
    "    \n",
    "    Guidelines for Expansion:\n",
    "    Ensure test cases explore diverse aspects of the scenario, including edge cases, boundary conditions, and typical workflows.\n",
    "    Include variations that test the interplay between different input parameters and their impact on the output.\n",
    "    Ensure each test case is self-contained, with clear inputs, outputs, and preconditions.\n",
    "    For invalid or edge-case inputs, specify the appropriate error handling or response expected from the API.\n",
    "    Maintain a balance of positive, negative, and edge-case tests for comprehensive coverage.\n",
    "    \"\"\""
   ]
  },
  {
   "cell_type": "code",
   "execution_count": 7,
   "metadata": {},
   "outputs": [],
   "source": [
    "output = await known_data_test_family_agent.run(\n",
    "    f\"\"\"\n",
    "    [Feature Distributions]  \n",
    "    {actual_stats}\n",
    "\n",
    "    [Partial Dependency]  \n",
    "    {actual_pd}\n",
    "\n",
    "    [Feature Importance]  \n",
    "    {dict(zip(model.feature_names_in_, model. feature_importances_))}\n",
    "\n",
    "    [Task]  \n",
    "    Generate 10 test families, including some for exploring edge cases, interactions between A and B, and fairness issues for sensitive subgroups.\n",
    "    \"\"\"\n",
    ")"
   ]
  },
  {
   "cell_type": "code",
   "execution_count": 8,
   "metadata": {},
   "outputs": [
    {
     "data": {
      "text/plain": [
       "{'name': 'Baseline Valid Inputs',\n",
       " 'description': 'Test the model with average values within the training distributions for all features.',\n",
       " 'test_case_type': 'Standard',\n",
       " 'test_variations': ['petal length: 3.8 cm, petal width: 1.2 cm',\n",
       "  'petal length: 4.4 cm, petal width: 1.4 cm',\n",
       "  'petal length: 5.1 cm, petal width: 1.5 cm']}"
      ]
     },
     "execution_count": 8,
     "metadata": {},
     "output_type": "execute_result"
    }
   ],
   "source": [
    "output.data[0].model_dump()"
   ]
  },
  {
   "cell_type": "code",
   "execution_count": 17,
   "metadata": {},
   "outputs": [],
   "source": [
    "tests_output = await know_data_test_case_generator_agent.run(\n",
    "    f\"\"\"\n",
    "    [Test family]  \n",
    "    {output.data[0].model_dump()}\n",
    "\n",
    "    [Most impactful features distributions]  \n",
    "    {actual_stats}\n",
    "\n",
    "    [Most impactful features partial dependency]  \n",
    "    {actual_pd}\n",
    "\n",
    "    [All Feature Importance]  \n",
    "    {dict(zip(model.feature_names_in_, model. feature_importances_))}\n",
    "\n",
    "    [Task]  \n",
    "    Expand the test from this family and generate 5 to 20 variation tests. In each input_json, it has to include all the features in the model.\n",
    "    \"\"\"\n",
    ")"
   ]
  },
  {
   "cell_type": "code",
   "execution_count": 18,
   "metadata": {},
   "outputs": [
    {
     "name": "stdout",
     "output_type": "stream",
     "text": [
      "{'description': 'Test with average values for petal length and width near mean '\n",
      "                'values.',\n",
      " 'expected_output_json': {'confidence': 0.85, 'prediction': 'Iris-Setosa'},\n",
      " 'expected_output_prompt': 'The model should return a valid prediction based '\n",
      "                           'on the input features with reasonable confidence '\n",
      "                           'levels.',\n",
      " 'input_json': {'petal_length': 3.8,\n",
      "                'petal_width': 1.2,\n",
      "                'sepal_length': 5.1,\n",
      "                'sepal_width': 3.5},\n",
      " 'method': 'POST',\n",
      " 'name': 'Baseline Test Case 1',\n",
      " 'path': '/predict',\n",
      " 'preconditions': 'Model is loaded and ready for processing.'}\n"
     ]
    }
   ],
   "source": [
    "from pprint import pprint\n",
    "\n",
    "pprint(tests_output.data[0].model_dump())"
   ]
  },
  {
   "cell_type": "code",
   "execution_count": 19,
   "metadata": {},
   "outputs": [
    {
     "data": {
      "text/plain": [
       "[TestCase(name='Baseline Test Case 1', description='Test with average values for petal length and width near mean values.', path='/predict', method='POST', input_json={'petal_length': 3.8, 'petal_width': 1.2, 'sepal_length': 5.1, 'sepal_width': 3.5}, expected_output_prompt='The model should return a valid prediction based on the input features with reasonable confidence levels.', expected_output_json={'prediction': 'Iris-Setosa', 'confidence': 0.85}, preconditions='Model is loaded and ready for processing.'),\n",
       " TestCase(name='Baseline Test Case 2', description='Test with slightly above average values for petal length and width.', path='/predict', method='POST', input_json={'petal_length': 4.4, 'petal_width': 1.4, 'sepal_length': 5.0, 'sepal_width': 3.6}, expected_output_prompt='The model should return a valid prediction based on the input features with reasonable confidence levels.', expected_output_json={'prediction': 'Iris-Versicolor', 'confidence': 0.82}, preconditions='Model is loaded and ready for processing.'),\n",
       " TestCase(name='Baseline Test Case 3', description='Test with borderline values for petal width.', path='/predict', method='POST', input_json={'petal_length': 5.1, 'petal_width': 1.5, 'sepal_length': 5.5, 'sepal_width': 2.5}, expected_output_prompt='The model should return a valid prediction and handle the edge case appropriately.', expected_output_json={'prediction': 'Iris-Virginica', 'confidence': 0.79}, preconditions='Model is loaded and ready for processing.'),\n",
       " TestCase(name='Baseline Test Case 4', description='Test with values at the 75th percentile for petal dimensions.', path='/predict', method='POST', input_json={'petal_length': 5.1, 'petal_width': 1.8, 'sepal_length': 6.0, 'sepal_width': 3.0}, expected_output_prompt='The model should return a valid prediction indicating the species classification.', expected_output_json={'prediction': 'Iris-Virginica', 'confidence': 0.9}, preconditions='Model is loaded and ready for processing.'),\n",
       " TestCase(name='Baseline Test Case 5', description='Test with minimum values for petal dimensions.', path='/predict', method='POST', input_json={'petal_length': 1.0, 'petal_width': 0.1, 'sepal_length': 4.0, 'sepal_width': 2.0}, expected_output_prompt='The model should return a valid prediction indicating the species classification.', expected_output_json={'prediction': 'Iris-Setosa', 'confidence': 0.95}, preconditions='Model is loaded and ready for processing.'),\n",
       " TestCase(name='Baseline Test Case 6', description='Test with petal length at the mean and petal width at the max.', path='/predict', method='POST', input_json={'petal_length': 3.758, 'petal_width': 2.5, 'sepal_length': 5.8, 'sepal_width': 3.4}, expected_output_prompt='The model should return a valid prediction even at extreme input values.', expected_output_json={'prediction': 'Iris-Virginica', 'confidence': 0.75}, preconditions='Model is loaded and ready for processing.'),\n",
       " TestCase(name='Baseline Test Case 7', description='Test with values around the lower quartile for petal dimensions.', path='/predict', method='POST', input_json={'petal_length': 1.6, 'petal_width': 0.3, 'sepal_length': 4.5, 'sepal_width': 2.5}, expected_output_prompt='The model should return a valid prediction for low input values.', expected_output_json={'prediction': 'Iris-Setosa', 'confidence': 0.97}, preconditions='Model is loaded and ready for processing.'),\n",
       " TestCase(name='Baseline Test Case 8', description='Test with sepal dimensions at their mean values while varying petal dimensions moderately.', path='/predict', method='POST', input_json={'petal_length': 4.0, 'petal_width': 1.3, 'sepal_length': 5.006, 'sepal_width': 3.418}, expected_output_prompt='The model should return a valid prediction based on these inputs.', expected_output_json={'prediction': 'Iris-Versicolor', 'confidence': 0.8}, preconditions='Model is loaded and ready for processing.')]"
      ]
     },
     "execution_count": 19,
     "metadata": {},
     "output_type": "execute_result"
    }
   ],
   "source": [
    "tests_output.data"
   ]
  },
  {
   "cell_type": "code",
   "execution_count": 21,
   "metadata": {},
   "outputs": [
    {
     "name": "stdout",
     "output_type": "stream",
     "text": [
      "Wrong output input_json\n"
     ]
    },
    {
     "data": {
      "text/plain": [
       "{\"{'petal_length': 3.8, 'petal_width': 1.2, 'sepal_length': 5.1, 'sepal_width': 3.5}\": array([2]),\n",
       " \"{'petal_length': 4.4, 'petal_width': 1.4, 'sepal_length': 5.0, 'sepal_width': 3.6}\": array([2]),\n",
       " \"{'petal_length': 5.1, 'petal_width': 1.5, 'sepal_length': 5.5, 'sepal_width': 2.5}\": array([2]),\n",
       " \"{'petal_length': 5.1, 'petal_width': 1.8, 'sepal_length': 6.0, 'sepal_width': 3.0}\": array([2]),\n",
       " \"{'petal_length': 1.0, 'petal_width': 0.1, 'sepal_length': 4.0, 'sepal_width': 2.0}\": array([2]),\n",
       " \"{'petal_length': 3.758, 'petal_width': 2.5, 'sepal_length': 5.8, 'sepal_width': 3.4}\": array([2]),\n",
       " \"{'petal_length': 1.6, 'petal_width': 0.3, 'sepal_length': 4.5, 'sepal_width': 2.5}\": array([2]),\n",
       " \"{'petal_length': 4.0, 'petal_width': 1.3, 'sepal_length': 5.006, 'sepal_width': 3.418}\": array([2])}"
      ]
     },
     "execution_count": 21,
     "metadata": {},
     "output_type": "execute_result"
    }
   ],
   "source": [
    "import warnings\n",
    "warnings.filterwarnings(\"ignore\", category=UserWarning, module=\"sklearn\")\n",
    "\n",
    "executor = Executor()\n",
    "executor.execute_results(tests_output.data, model, False)\n"
   ]
  }
 ],
 "metadata": {
  "kernelspec": {
   "display_name": ".venv",
   "language": "python",
   "name": "python3"
  },
  "language_info": {
   "codemirror_mode": {
    "name": "ipython",
    "version": 3
   },
   "file_extension": ".py",
   "mimetype": "text/x-python",
   "name": "python",
   "nbconvert_exporter": "python",
   "pygments_lexer": "ipython3",
   "version": "3.10.9"
  }
 },
 "nbformat": 4,
 "nbformat_minor": 2
}
