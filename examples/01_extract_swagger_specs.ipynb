{
 "cells": [
  {
   "cell_type": "code",
   "execution_count": 1,
   "metadata": {},
   "outputs": [],
   "source": [
    "import os\n",
    "import pathlib\n",
    "import subprocess\n",
    "\n",
    "URL = \"https://petstore.swagger.io\"\n",
    "ENDPOINTS = \"/pet/findByStatus\"\n",
    "\n",
    "# Running it as a subprocess because incompatibilities with Windows, asyncio, playwright and Jupyter NBs\n",
    "script_path = (\n",
    "    f\"{pathlib.Path(os.getcwd()).parent.resolve()}\\\\ai_api_testing\\\\agents\\\\api_specs_agents\\\\swagger_extractor.py\"\n",
    ")\n",
    "result = subprocess.run(\n",
    "    [\n",
    "        \"uv\",\n",
    "        \"run\",\n",
    "        \"python\",\n",
    "        script_path,\n",
    "        \"--url\",\n",
    "        URL,\n",
    "        \"--endpoints\",\n",
    "        ENDPOINTS,\n",
    "        # '--try-direct-access', 'True'\n",
    "    ],\n",
    "    capture_output=True,\n",
    "    text=True,\n",
    ")"
   ]
  },
  {
   "cell_type": "code",
   "execution_count": null,
   "metadata": {},
   "outputs": [],
   "source": [
    "result.stdout"
   ]
  }
 ],
 "metadata": {
  "kernelspec": {
   "display_name": ".venv",
   "language": "python",
   "name": "python3"
  },
  "language_info": {
   "codemirror_mode": {
    "name": "ipython",
    "version": 3
   },
   "file_extension": ".py",
   "mimetype": "text/x-python",
   "name": "python",
   "nbconvert_exporter": "python",
   "pygments_lexer": "ipython3",
   "version": "3.10.9"
  }
 },
 "nbformat": 4,
 "nbformat_minor": 2
}
